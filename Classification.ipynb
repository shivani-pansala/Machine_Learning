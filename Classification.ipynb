{
 "cells": [
  {
   "cell_type": "code",
   "execution_count": 5,
   "id": "cbd96d8e-67e9-4449-9c5b-13afca706766",
   "metadata": {},
   "outputs": [
    {
     "ename": "IndexError",
     "evalue": "too many indices for array: array is 1-dimensional, but 2 were indexed",
     "output_type": "error",
     "traceback": [
      "\u001b[1;31m---------------------------------------------------------------------------\u001b[0m",
      "\u001b[1;31mIndexError\u001b[0m                                Traceback (most recent call last)",
      "Cell \u001b[1;32mIn[5], line 13\u001b[0m\n\u001b[0;32m     11\u001b[0m \u001b[38;5;66;03m#Identify X:sepal length and Y:class\u001b[39;00m\n\u001b[0;32m     12\u001b[0m x\u001b[38;5;241m=\u001b[39mnp\u001b[38;5;241m.\u001b[39marray(dataset\u001b[38;5;241m.\u001b[39mdata[:,\u001b[38;5;241m0\u001b[39m])\u001b[38;5;241m.\u001b[39mreshape(\u001b[38;5;241m-\u001b[39m\u001b[38;5;241m1\u001b[39m,\u001b[38;5;241m1\u001b[39m)\n\u001b[1;32m---> 13\u001b[0m x\u001b[38;5;241m=\u001b[39mnp\u001b[38;5;241m.\u001b[39marray(\u001b[43mdataset\u001b[49m\u001b[38;5;241;43m.\u001b[39;49m\u001b[43mtarget\u001b[49m\u001b[43m[\u001b[49m\u001b[43m:\u001b[49m\u001b[43m,\u001b[49m\u001b[38;5;241;43m0\u001b[39;49m\u001b[43m]\u001b[49m)\u001b[38;5;241m.\u001b[39mreshape(\u001b[38;5;241m-\u001b[39m\u001b[38;5;241m1\u001b[39m,\u001b[38;5;241m1\u001b[39m)\n\u001b[0;32m     15\u001b[0m \u001b[38;5;66;03m#split the dataset into training & testing\u001b[39;00m\n\u001b[0;32m     16\u001b[0m xtrain,xtest,ytrain,ytest\u001b[38;5;241m=\u001b[39mmodel_selection\u001b[38;5;241m.\u001b[39mtrain_test_split(x,y,test_size\u001b[38;5;241m=\u001b[39m\u001b[38;5;241m0.3\u001b[39m)\n",
      "\u001b[1;31mIndexError\u001b[0m: too many indices for array: array is 1-dimensional, but 2 were indexed"
     ]
    }
   ],
   "source": [
    "from sklearn import model_selection\n",
    "import sklearn.datasets as db\n",
    "from sklearn.naive_bayes import GaussianNB\n",
    "import pandas as pd\n",
    "import numpy as np\n",
    "import matplotlib.pyplot as plt\n",
    "\n",
    "#load the dataset\n",
    "dataset = db.load_iris()\n",
    "\n",
    "#Identify X:sepal length and Y:class\n",
    "x=np.array(dataset.data[:,0]).reshape(-1,1)\n",
    "x=np.array(dataset.target).reshape(-1,1)\n",
    "\n",
    "#split the dataset into training & testing\n",
    "xtrain,xtest,ytrain,ytest=model_selection.train_test_split(x,y,test_size=0.3)\n",
    "\n",
    "#load the classifier\n",
    "classifier=GussianNB()\n",
    "\n",
    "#Train the model\n",
    "classifier.fit(xtrain,ytrain)\n",
    "\n",
    "#test the classifier\n",
    "ytest_predicted=classifier.predict(xtest)\n",
    "\n",
    "print(xtest,ytest)\n",
    "print(ytest_predicted)\n",
    "\n",
    "#visulize the results\n",
    "plt.scatter(xtest,ytest)\n",
    "plt.scatter(xtest,ytest_predicted)\n",
    "plt.show()"
   ]
  },
  {
   "cell_type": "code",
   "execution_count": null,
   "id": "f82376d7-1b0d-4dad-8dd5-5e657d2e35ed",
   "metadata": {},
   "outputs": [],
   "source": []
  }
 ],
 "metadata": {
  "kernelspec": {
   "display_name": "Python 3 (ipykernel)",
   "language": "python",
   "name": "python3"
  },
  "language_info": {
   "codemirror_mode": {
    "name": "ipython",
    "version": 3
   },
   "file_extension": ".py",
   "mimetype": "text/x-python",
   "name": "python",
   "nbconvert_exporter": "python",
   "pygments_lexer": "ipython3",
   "version": "3.11.9"
  }
 },
 "nbformat": 4,
 "nbformat_minor": 5
}
